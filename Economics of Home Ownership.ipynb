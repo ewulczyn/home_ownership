{
 "cells": [
  {
   "cell_type": "code",
   "execution_count": 5,
   "metadata": {
    "collapsed": false
   },
   "outputs": [
    {
     "name": "stdout",
     "output_type": "stream",
     "text": [
      "The autoreload extension is already loaded. To reload it, use:\n",
      "  %reload_ext autoreload\n"
     ]
    }
   ],
   "source": [
    "%load_ext autoreload\n",
    "%autoreload 2\n",
    "%matplotlib inline\n",
    "from home_ownership import bottom_line"
   ]
  },
  {
   "cell_type": "code",
   "execution_count": 7,
   "metadata": {
    "collapsed": false
   },
   "outputs": [
    {
     "name": "stdout",
     "output_type": "stream",
     "text": [
      "Sources of Revenue\n",
      "Rent Averted: 45183\n",
      "House Sale: 112550\n",
      "\n",
      "Costs\n",
      "Recurring Ownership Cost: 11078\n",
      "DP Opportunity_costs: 5249\n",
      "Interest Paid: 6799 \n",
      "Principal + DP Paid: 37205 \n",
      "DP + Interest + Principal: 44005\n",
      "Rest of Loan: 62794\n",
      "\n",
      "\n",
      "Bottom Line: 34606\n"
     ]
    },
    {
     "data": {
      "image/png": "[encoded data removed]",
      "text/plain": [
       "<matplotlib.figure.Figure at 0x11543b710>"
      ]
     },
     "metadata": {},
     "output_type": "display_data"
    }
   ],
   "source": [
    "d = {\n",
    "'home_price' : 100000.0,\n",
    "'down_payment' : 0.2,\n",
    "'maintenance': 0.01,\n",
    "'home_owners_insurance': 0.0056,\n",
    "'mortgage_term' : 15,\n",
    "'mortgage_rate' : 0.037,\n",
    "'property_tax' : 0.017,\n",
    "'marginal_tax_rate' : 0.36,\n",
    "'stock_market' : 0.06,\n",
    "'house_appreciation' : 0.03,\n",
    "'years'  : 4,\n",
    "'income_rent'  : 900,\n",
    "'personal_rent' : 900,\n",
    "'rent_rate' : 0.03,\n",
    "}\n",
    "\n",
    "bottom_line(d, income = False)"
   ]
  },
  {
   "cell_type": "code",
   "execution_count": null,
   "metadata": {
    "collapsed": true
   },
   "outputs": [],
   "source": []
  },
  {
   "cell_type": "code",
   "execution_count": null,
   "metadata": {
    "collapsed": true
   },
   "outputs": [],
   "source": []
  }
 ],
 "metadata": {
  "kernelspec": {
   "display_name": "Python 3",
   "language": "python",
   "name": "python3"
  },
  "language_info": {
   "codemirror_mode": {
    "name": "ipython",
    "version": 3
   },
   "file_extension": ".py",
   "mimetype": "text/x-python",
   "name": "python",
   "nbconvert_exporter": "python",
   "pygments_lexer": "ipython3",
   "version": "3.4.3"
  }
 },
 "nbformat": 4,
 "nbformat_minor": 0
}
