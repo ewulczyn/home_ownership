{
 "cells": [
  {
   "cell_type": "code",
   "execution_count": 4,
   "metadata": {
    "collapsed": false
   },
   "outputs": [],
   "source": [
    "import math\n",
    "import numpy as np\n",
    "%matplotlib inline\n",
    "import matplotlib.pyplot as plt\n",
    "import seaborn as sns"
   ]
  },
  {
   "cell_type": "code",
   "execution_count": 5,
   "metadata": {
    "collapsed": false
   },
   "outputs": [],
   "source": [
    "# Cost of Buying and Living\n",
    "d = {\n",
    "'home_price' : 100000.0,\n",
    "'down_payment' : 0.2,\n",
    "'maintenance': 0.01,\n",
    "'home_owners_insurance': 0.0056,\n",
    "'mortgage_term' : 15,\n",
    "'mortgage_rate' : 0.037,\n",
    "'property_tax' : 0.017,\n",
    "'marginal_tax_rate' : 0.28,\n",
    "'stock_market' : 0.02,\n",
    "'house_appreciation' : 0.03,\n",
    "'years'  : 8,\n",
    "'income_rent'  : 800,\n",
    "'personal_rent' : 900,\n",
    "'rent_rate' : 0.03,\n",
    "}"
   ]
  },
  {
   "cell_type": "code",
   "execution_count": 6,
   "metadata": {
    "collapsed": false
   },
   "outputs": [],
   "source": [
    "def monthly_ownership_cost(d):\n",
    "    home_value = d['home_price']\n",
    "    ownership = []\n",
    "    for year in range(d['years']):\n",
    "        yearly_cost = 0.0\n",
    "        yearly_cost +=  (home_value *  d['property_tax']) * (1- d['marginal_tax_rate'])\n",
    "        yearly_cost += home_value *  d['maintenance']\n",
    "        yearly_cost += home_value *  d['home_owners_insurance']\n",
    "        home_price *= (1+ d['house_appreciation'])\n",
    "        monthly_cost = yearly_cost / 12\n",
    "        ownership += [monthly_cost] * 12\n",
    "    return np.array(ownership)\n",
    "        "
   ]
  },
  {
   "cell_type": "code",
   "execution_count": 7,
   "metadata": {
    "collapsed": false
   },
   "outputs": [],
   "source": [
    "#print ('Total Ownership Costs: %f'  % monthly_ownership_cost(d).sum())\n",
    "#plt.plot(monthly_ownership_cost(d))"
   ]
  },
  {
   "cell_type": "code",
   "execution_count": 38,
   "metadata": {
    "collapsed": false
   },
   "outputs": [],
   "source": [
    "def monthly_mortgage_cost(d, verbose = False):\n",
    "    principal = d['home_price'] * (1 - d['down_payment'] )\n",
    "    rate = d['mortgage_rate'] / 12\n",
    "    num_payments = d['mortgage_term']  * 12\n",
    "    monthly_payment = principal *  (rate/(1-math.pow((1+rate), (-num_payments))))\n",
    "    \n",
    "    principal_cost = []\n",
    "    interest_cost = []\n",
    "    \n",
    "    principal_left = principal\n",
    "    \n",
    "    for year in range( d['years']): \n",
    "        for month in range(12):\n",
    "            if principal_left <=0:\n",
    "                principal_cost.append(0)\n",
    "                interest_cost.append(0)\n",
    "            else:\n",
    "                interest_portion = rate * principal_left\n",
    "                principal_portion = monthly_payment - interest_portion\n",
    "                principal_left -= principal_portion\n",
    "                principal_cost.append(principal_portion)\n",
    "                interest_cost.append(interest_portion * (1- d['marginal_tax_rate']))\n",
    "    \n",
    "    principal_cost = np.array(principal_cost)\n",
    "    interest_cost = np.array(interest_cost)\n",
    "    total_cost = principal_cost + interest_cost\n",
    "    \n",
    "    if verbose:\n",
    "        print('monthly payment: ', monthly_payment)\n",
    "        print('Total Mortgage Cost: ', monthly_payment * num_payments)\n",
    "        print('Total Mortgage Cost - Tax Deductions: ', total_cost.sum())\n",
    "    \n",
    "    return principal_cost, interest_cost, total_cost"
   ]
  },
  {
   "cell_type": "code",
   "execution_count": 137,
   "metadata": {
    "collapsed": true
   },
   "outputs": [],
   "source": [
    "def monthly_averted_rents(d):\n",
    "    rents = []\n",
    "    rent = d['personal_rent']\n",
    "        \n",
    "    for year in range(d['years']): \n",
    "        for month in range(12):\n",
    "            rents.append(rent)\n",
    "        rent *= 1 + d['rent_rate']\n",
    "    return np.array(rents)"
   ]
  },
  {
   "cell_type": "code",
   "execution_count": 138,
   "metadata": {
    "collapsed": true
   },
   "outputs": [],
   "source": [
    "def monthly_income_rents(d):\n",
    "    rents = []\n",
    "    rent = d['income_rent']\n",
    "    for year in range(d['years']): \n",
    "        for month in range(12):\n",
    "            rents.append(rent * (1 - d['marginal_tax_rate']))\n",
    "        rent *= 1 + d['rent_rate']\n",
    "    return np.array(rents)"
   ]
  },
  {
   "cell_type": "code",
   "execution_count": 139,
   "metadata": {
    "collapsed": false
   },
   "outputs": [],
   "source": [
    "def opportunity_costs(d, rent, mortgage_payments, ownership_payments): \n",
    "    \"\"\"\n",
    "    1. What you could have made on the principal if you had invested it\n",
    "    2. What you could have made if you had invested the difference between\n",
    "        recurring ownership and recurring rent costs\n",
    "    \n",
    "    \"\"\"\n",
    "    down_payment = d['home_price'] * d['down_payment']\n",
    "    down_payment_opportunity_cost  = down_payment * (1 + d['stock_market']) ** d['years'] - down_payment\n",
    "    #print ('Down payment Opportunity Cost: ', down_payment_opportunity_cost)\n",
    "    \n",
    "    rent_diff_opportunity_cost = 0\n",
    "    \n",
    "    rate = 1 + d['stock_market']/12\n",
    "    \n",
    "    months_left = d['years'] * 12\n",
    "    \n",
    "    for year in range(d['years']): \n",
    "        for month in range(12):\n",
    "            i = year * month\n",
    "            net = mortgage_payments[i] + ownership_payments[i] - rent[i]\n",
    "            rent_diff_opportunity_cost += net * rate ** months_left\n",
    "            months_left -= 1\n",
    "            \n",
    "    #print ('Rent Diff Opportunity Cost: ', rent_diff_opportunity_cost)\n",
    "    \n",
    "    return  down_payment_opportunity_cost #+ rent_diff_opportunity_cost \n",
    "\n"
   ]
  },
  {
   "cell_type": "code",
   "execution_count": 165,
   "metadata": {
    "collapsed": true
   },
   "outputs": [],
   "source": [
    "def bottom_line(d, income = False):\n",
    "    \n",
    "    if income:\n",
    "        monthly_rents = monthly_income_rents(d)\n",
    "    else:\n",
    "        monthly_rents = monthly_averted_rents(d)\n",
    "\n",
    "    monthly_mortgage_principal_cost, monthly_mortgage_interest_cost, monthly_mortgage_total_cost  = monthly_mortgage_cost(d)\n",
    "    monthly_ownership_costs = monthly_ownership_cost(d)\n",
    "    total_opportunity_costs = opportunity_costs(d,monthly_rents, monthly_mortgage_total_cost, monthly_ownership_costs)\n",
    "    home_value = d['home_price'] * (1+ d['house_appreciation']) ** d['years']\n",
    "    down_payment = d['home_price'] * d['down_payment']\n",
    "    \n",
    "    \n",
    "    mortgage_paid = monthly_mortgage_total_cost.sum()\n",
    "    mortgage_left = d['home_price'] * (1 - d['down_payment'] ) - monthly_mortgage_principal_cost.sum()\n",
    "    bottom_line = - monthly_ownership_costs.sum() - total_opportunity_costs \\\n",
    "                  + home_value - mortgage_paid - mortgage_left - down_payment + monthly_rents.sum()\n",
    "        \n",
    "    print('Sources of Revenue') \n",
    "    if income:\n",
    "        print ('Rent Collected: %d' % monthly_rents.sum())\n",
    "    else:\n",
    "        print ('Rent Averted: %d' % monthly_rents.sum())\n",
    "    print ('House Sale: %d\\n' % home_value)\n",
    "    \n",
    "    \n",
    "\n",
    "    # costs of revenue \n",
    "    print('Costs') \n",
    "    print ('Recurring Ownership Cost: %d' % monthly_ownership_costs.sum())\n",
    "    print ('DP Opportunity_costs: %d' % total_opportunity_costs)    \n",
    "    print ('Interest Paid: %d ' % monthly_mortgage_interest_cost.sum())\n",
    "    print ('Principal + DP Paid: %d ' % (monthly_mortgage_principal_cost.sum() + down_payment) )\n",
    "    print ('DP + Interest + Principal: %d' % (down_payment + mortgage_paid))\n",
    "    print ('Rest of Loan: %d\\n' % mortgage_left)\n",
    "    print()\n",
    "\n",
    "    \n",
    "    print('Bottom Line: %d' %  bottom_line)\n",
    "    \n",
    "    plt.figure()\n",
    "    plt.plot(monthly_ownership_costs, label = 'Ownership')\n",
    "    plt.plot(monthly_mortgage_total_cost, label = 'Morgage')\n",
    "    plt.plot(monthly_ownership_costs + monthly_mortgage_total_cost, label =  'total monthly costs')\n",
    "    if income:\n",
    "        plt.plot(monthly_rents, label = 'rent_collected')\n",
    "    else:\n",
    "        plt.plot(monthly_rents, label = 'averted_rent')\n",
    "    plt.legend()\n",
    "    \n",
    "    "
   ]
  },
  {
   "cell_type": "code",
   "execution_count": 181,
   "metadata": {
    "collapsed": false
   },
   "outputs": [
    {
     "name": "stdout",
     "output_type": "stream",
     "text": [
      "12\n",
      "Sources of Revenue\n",
      "Rent Averted: 10800\n",
      "House Sale: 103000\n",
      "\n",
      "Costs\n",
      "Recurring Ownership Cost: 2647\n",
      "DP Opportunity_costs: 1200\n",
      "Interest Paid: 1850 \n",
      "Principal + DP Paid: 24066 \n",
      "DP + Interest + Principal: 25916\n",
      "Rest of Loan: 75933\n",
      "\n",
      "\n",
      "Bottom Line: 8101\n"
     ]
    },
    {
     "data": {
      "image/png": "[encoded data removed]",
      "text/plain": [
       "<matplotlib.figure.Figure at 0x11793e470>"
      ]
     },
     "metadata": {},
     "output_type": "display_data"
    }
   ],
   "source": [
    "d = {\n",
    "'home_price' : 100000.0,\n",
    "'down_payment' : 0.2,\n",
    "'maintenance': 0.01,\n",
    "'home_owners_insurance': 0.0056,\n",
    "'mortgage_term' : 15,\n",
    "'mortgage_rate' : 0.037,\n",
    "'property_tax' : 0.017,\n",
    "'marginal_tax_rate' : 0.36,\n",
    "'stock_market' : 0.06,\n",
    "'house_appreciation' : 0.03,\n",
    "'years'  : 1,\n",
    "'income_rent'  : 900,\n",
    "'personal_rent' : 900,\n",
    "'rent_rate' : 0.03,\n",
    "}\n",
    "\n",
    "bottom_line(d, income = False)"
   ]
  },
  {
   "cell_type": "code",
   "execution_count": null,
   "metadata": {
    "collapsed": true
   },
   "outputs": [],
   "source": []
  }
 ],
 "metadata": {
  "kernelspec": {
   "display_name": "Python 3",
   "language": "python",
   "name": "python3"
  },
  "language_info": {
   "codemirror_mode": {
    "name": "ipython",
    "version": 3
   },
   "file_extension": ".py",
   "mimetype": "text/x-python",
   "name": "python",
   "nbconvert_exporter": "python",
   "pygments_lexer": "ipython3",
   "version": "3.4.3"
  }
 },
 "nbformat": 4,
 "nbformat_minor": 0
}
